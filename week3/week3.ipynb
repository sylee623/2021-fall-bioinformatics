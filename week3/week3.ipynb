{
 "cells": [
  {
   "cell_type": "code",
   "execution_count": 6,
   "source": [
    "import re\n",
    "\n",
    "dna = \"AACGAATTCCCTCTC\"\n",
    "\n",
    "if re.search(\"GAA[TC]TC\",dna): print \"match\"\n",
    "else : print \"mismatch\"\n",
    "\n",
    "if re.match(\"GAA[TC]TC\",dna): print \"match\"\n",
    "else : print \"mismatch\"\n",
    "\n",
    "if re.match(\"GAA[TC]TC\",dna[3:9]): print \"match\"\n",
    "else: print \"mismatch\""
   ],
   "outputs": [
    {
     "output_type": "stream",
     "name": "stdout",
     "text": [
      "match\n",
      "mismatch\n",
      "match\n"
     ]
    }
   ],
   "metadata": {}
  },
  {
   "cell_type": "markdown",
   "source": [],
   "metadata": {}
  },
  {
   "cell_type": "code",
   "execution_count": 7,
   "source": [
    "enzymes = {\n",
    "    'Bcl' : 'TGATCA',\n",
    "    'Bfml' : 'CTRYAG',\n",
    "    'CacBl' : 'GCNNGC',\n",
    "    'EcoRl' : 'GAATTC',\n",
    "    'HindIII' : 'AAGCTT'\n",
    "}\n",
    "\n",
    "print enzymes.keys()\n",
    "print enzymes.values()\n",
    "print enzymes.items()"
   ],
   "outputs": [
    {
     "output_type": "stream",
     "name": "stdout",
     "text": [
      "['Bcl', 'CacBl', 'HindIII', 'EcoRl', 'Bfml']\n",
      "['TGATCA', 'GCNNGC', 'AAGCTT', 'GAATTC', 'CTRYAG']\n",
      "[('Bcl', 'TGATCA'), ('CacBl', 'GCNNGC'), ('HindIII', 'AAGCTT'), ('EcoRl', 'GAATTC'), ('Bfml', 'CTRYAG')]\n"
     ]
    }
   ],
   "metadata": {}
  },
  {
   "cell_type": "code",
   "execution_count": 9,
   "source": [
    "print enzymes\n",
    "enzymes_mod = enzymes.copy()\n",
    "print enzymes_mod\n",
    "amb = {\n",
    "    'R' : '[AG]'\n",
    "    'R' : '[AG]',\n",
    "    'R' : '[AG]',\n",
    "    'R' : '[AG]',\n",
    "    'R' : '[AG]',\n",
    "    'R' : '[AG]',\n",
    "    'R' : '[AG]',\n",
    "    'R' : '[AG]',\n",
    "}"
   ],
   "outputs": [
    {
     "output_type": "stream",
     "name": "stdout",
     "text": [
      "{'Bcl': 'TGATCA', 'CacBl': 'GCNNGC', 'HindIII': 'AAGCTT', 'EcoRl': 'GAATTC', 'Bfml': 'CTRYAG'}\n"
     ]
    }
   ],
   "metadata": {}
  },
  {
   "cell_type": "code",
   "execution_count": 25,
   "source": [
    "import string\n",
    "\n",
    "\n",
    "comp = string.maketrans('ATGC', 'UACG')\n",
    "\n",
    "seq = 'GATCTGACTAGCGAGCGTGATCAAGCTTGTGTAGGAATTCCTTGATGCTGTAGCGCGAGCTGA'\n",
    "assignment = {\n",
    "    'Alu' : 'AGCT',\n",
    "    'Dpnl' : 'GATC'\n",
    "}\n",
    "\n",
    "for i in range(0, len(seq) -6):\n",
    "    testseq = seq[i:i+6]\n",
    "    for key in assignment.keys():\n",
    "        if re.search(assignment[key], testseq) or re.search(assignment[key], testseq[::-1].translate(comp)):\n",
    "            pos = i+1\n",
    "            #print key ,'\\t', pos, '\\t', testseq, '\\t', assignment[key]\n",
    "\n",
    "print(testseq)"
   ],
   "outputs": [
    {
     "output_type": "stream",
     "name": "stdout",
     "text": [
      "GAGCTG\n"
     ]
    }
   ],
   "metadata": {}
  },
  {
   "cell_type": "code",
   "execution_count": null,
   "source": [],
   "outputs": [],
   "metadata": {}
  }
 ],
 "metadata": {
  "orig_nbformat": 4,
  "language_info": {
   "mimetype": "text/x-python",
   "nbconvert_exporter": "python",
   "name": "python",
   "pygments_lexer": "ipython2",
   "version": "2.7.16",
   "file_extension": ".py",
   "codemirror_mode": {
    "version": 2,
    "name": "ipython"
   }
  },
  "kernelspec": {
   "name": "python3",
   "display_name": "Python 2.7.5 64-bit"
  },
  "interpreter": {
   "hash": "767d51c1340bd893661ea55ea3124f6de3c7a262a8b4abca0554b478b1e2ff90"
  }
 },
 "nbformat": 4,
 "nbformat_minor": 2
}