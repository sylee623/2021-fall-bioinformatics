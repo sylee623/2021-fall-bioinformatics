{
 "cells": [
  {
   "cell_type": "markdown",
   "source": [
    "# Prints the reverse complement of the following restriction enzyme recognition seq uence: GTMKAC, GDGCHC, and ACNNNN\n",
    "\n",
    "## 1. Reverse complement of GTMKAC, GDGCHC, and ACNNNN"
   ],
   "metadata": {}
  },
  {
   "cell_type": "code",
   "execution_count": 12,
   "source": [
    "def translate(seqlist,tmpdict,isreverse):\n",
    "    returnlist = list()\n",
    "    for i in seqlist:\n",
    "        tmp = ''\n",
    "        for j in i :\n",
    "            if isreverse : tmp = tmpdict[j] + tmp\n",
    "            else: \n",
    "                try:\n",
    "                    tmp = tmp + tmpdict[j]\n",
    "                except KeyError :\n",
    "                    tmp = tmp + j\n",
    "        returnlist += [tmp]\n",
    "    return returnlist"
   ],
   "outputs": [],
   "metadata": {}
  },
  {
   "cell_type": "markdown",
   "source": [],
   "metadata": {}
  },
  {
   "cell_type": "code",
   "execution_count": 24,
   "source": [
    "import re\n",
    "\n",
    "sequence = ['GTMKAC','GDGCHC','ACNNNN']\n",
    "\n",
    "compDict = {\n",
    "    'A' : 'T', 'T' : 'A', 'G' : 'C', 'C' : 'G',\n",
    "    'R' : 'Y', 'Y' : 'R', 'N' : 'N', 'W' : 'W',\n",
    "    'M' : 'K', 'K' : 'M', 'S' : 'S', 'V' : 'B', 'B' : 'V',\n",
    "    'H' : 'D', 'D' : 'H'\n",
    "}\n",
    "\n",
    "revseq = translate(sequence, compDict, 1)\n",
    "\n",
    "print revseq"
   ],
   "outputs": [
    {
     "output_type": "stream",
     "name": "stdout",
     "text": [
      "['GTMKAC', 'GDGCHC', 'NNNNGT']\n"
     ]
    }
   ],
   "metadata": {}
  },
  {
   "cell_type": "markdown",
   "source": [
    "## 2. Convert to regular expression using iupac dictionary\n",
    "     "
   ],
   "metadata": {}
  },
  {
   "cell_type": "code",
   "execution_count": 25,
   "source": [
    "# IUPAC dictionary\n",
    "iupac = {\n",
    "'R':'[AG]', 'Y':'[CT]', 'N':'[AGCT]', 'W':'[AT]',\n",
    "'M':'[AC]', 'S':'[CG]', 'K':'[TG]', 'V':'[AC]',\n",
    "'H': '[ACT]', 'D':'[AGT]', 'B':'[CGT]'\n",
    "}\n",
    "\n",
    "iupac_recomp_seq = translate(revseq, iupac, 0)\n",
    "print iupac_recomp_seq"
   ],
   "outputs": [
    {
     "output_type": "stream",
     "name": "stdout",
     "text": [
      "['GT[AC][TG]AC', 'G[AGT]GC[ACT]C', '[AGCT][AGCT][AGCT][AGCT]GT']\n"
     ]
    }
   ],
   "metadata": {}
  },
  {
   "cell_type": "markdown",
   "source": [
    "## 3. Are there reverse complement sequence present in “seq” from code2.1? If so, print out 1)- position, 2) actual sequence of enzyme recognition in “seq” 3)- original enzyme recognition sequences"
   ],
   "metadata": {}
  },
  {
   "cell_type": "code",
   "execution_count": 34,
   "source": [
    "seq= 'GATCTGACTAGCGAGCGTGATCAAGCTTGTGTAGGAATTCCTTGATGCTGTAGCGCGAGCTGA'\n",
    "## iupac_recomp_seq is list of sequences that are reverse complementary to\n",
    "## Sequences = ['GTMKAC', 'GDGCHC', 'ACNNNN'] and expressed in regular expression.\n",
    "for j in range(0,len(seq)-6):\n",
    "    test_seq = seq[j:j+6]\n",
    "    for k in iupac_recomp_seq:\n",
    "        if re.search(k, test_seq):\n",
    "            pos = j+1\n",
    "            recog_seq = test_seq\n",
    "            enzyme_seq = sequence[iupac_recomp_seq.index(k)]\n",
    "            print pos, '\\t', recog_seq,'\\t', enzyme_seq"
   ],
   "outputs": [
    {
     "output_type": "stream",
     "name": "stdout",
     "text": [
      "13 \tGAGCGT \tACNNNN\n",
      "25 \tGCTTGT \tACNNNN\n",
      "27 \tTTGTGT \tACNNNN\n",
      "46 \tTGCTGT \tACNNNN\n"
     ]
    }
   ],
   "metadata": {}
  },
  {
   "cell_type": "code",
   "execution_count": null,
   "source": [],
   "outputs": [],
   "metadata": {}
  }
 ],
 "metadata": {
  "orig_nbformat": 4,
  "language_info": {
   "mimetype": "text/x-python",
   "nbconvert_exporter": "python",
   "name": "python",
   "pygments_lexer": "ipython2",
   "version": "2.7.16",
   "file_extension": ".py",
   "codemirror_mode": {
    "version": 2,
    "name": "ipython"
   }
  },
  "kernelspec": {
   "name": "python3",
   "display_name": "Python 2.7.16 64-bit"
  },
  "interpreter": {
   "hash": "767d51c1340bd893661ea55ea3124f6de3c7a262a8b4abca0554b478b1e2ff90"
  }
 },
 "nbformat": 4,
 "nbformat_minor": 2
}